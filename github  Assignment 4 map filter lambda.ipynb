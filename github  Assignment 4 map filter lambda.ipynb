{
 "cells": [
  {
   "cell_type": "markdown",
   "id": "c1283287",
   "metadata": {},
   "source": [
    " Q.1)Write a Python program to create a lambda function that adds 25 to a given number passed in as an argument.\n",
    "\n",
    "sample input: 10\n",
    "\n",
    "sample output: 35"
   ]
  },
  {
   "cell_type": "code",
   "execution_count": 1,
   "id": "8ffad96c",
   "metadata": {},
   "outputs": [
    {
     "data": {
      "text/plain": [
       "35"
      ]
     },
     "execution_count": 1,
     "metadata": {},
     "output_type": "execute_result"
    }
   ],
   "source": [
    "(lambda x:x+25)(10)"
   ]
  },
  {
   "cell_type": "markdown",
   "id": "69745d8d",
   "metadata": {},
   "source": []
  },
  {
   "cell_type": "code",
   "execution_count": 2,
   "id": "9e1cfcb8",
   "metadata": {},
   "outputs": [
    {
     "name": "stdout",
     "output_type": "stream",
     "text": [
      "35\n"
     ]
    }
   ],
   "source": [
    "###this code is right it is making clumsy to my code,,so instead of it above code is more fair.\n",
    "def adds_25(x):\n",
    "    return x+25\n",
    "y=lambda x:adds_25(x)\n",
    "print(y(10))"
   ]
  },
  {
   "cell_type": "markdown",
   "id": "775284de",
   "metadata": {},
   "source": []
  },
  {
   "cell_type": "markdown",
   "id": "e27f9f96",
   "metadata": {},
   "source": [
    "Q.2)Write a Python program to triple all numbers of a given list of integers. Use Python map.\n",
    "sample list: [1, 2, 3, 4, 5, 6, 7]\n",
    "Triple of list numbers:\n",
    "[3, 6, 9, 12, 15, 18, 21]"
   ]
  },
  {
   "cell_type": "code",
   "execution_count": 4,
   "id": "130187bf",
   "metadata": {},
   "outputs": [
    {
     "name": "stdout",
     "output_type": "stream",
     "text": [
      "[3, 6, 9, 12, 15, 18, 21]\n"
     ]
    }
   ],
   "source": [
    "l=[1,2,3,4,5,6,7]\n",
    "\n",
    "print(list(map(lambda x:x*3,l)) ) \n"
   ]
  },
  {
   "cell_type": "markdown",
   "id": "86bf432a",
   "metadata": {},
   "source": []
  },
  {
   "cell_type": "code",
   "execution_count": 3,
   "id": "edf9d5ac",
   "metadata": {},
   "outputs": [
    {
     "name": "stdout",
     "output_type": "stream",
     "text": [
      "[3, 6, 9, 12, 15, 18, 21]\n"
     ]
    }
   ],
   "source": [
    "l=[1,2,3,4,5,6,7]\n",
    "l1=[]\n",
    "for i in l:\n",
    "    while len(l)==7:\n",
    "        break\n",
    "        \n",
    "print(list(map(lambda x:x*3,l)) ) "
   ]
  },
  {
   "cell_type": "markdown",
   "id": "3d17f26d",
   "metadata": {},
   "source": []
  },
  {
   "cell_type": "code",
   "execution_count": 5,
   "id": "763fa51a",
   "metadata": {},
   "outputs": [
    {
     "data": {
      "text/plain": [
       "[3, 6, 9, 12, 15, 18, 21]"
      ]
     },
     "execution_count": 5,
     "metadata": {},
     "output_type": "execute_result"
    }
   ],
   "source": [
    "list(map(lambda x:x*3,l))"
   ]
  },
  {
   "cell_type": "markdown",
   "id": "86161860",
   "metadata": {},
   "source": []
  },
  {
   "cell_type": "code",
   "execution_count": 6,
   "id": "3e6f7f94",
   "metadata": {},
   "outputs": [
    {
     "data": {
      "text/plain": [
       "[3, 6, 9, 12, 15, 18, 21]"
      ]
     },
     "execution_count": 6,
     "metadata": {},
     "output_type": "execute_result"
    }
   ],
   "source": [
    "l=[1,2,3,4,5,6,7]\n",
    "def triple_of_all_elements(x):\n",
    "    return x*3\n",
    "list(map(triple_of_all_elements,l))"
   ]
  },
  {
   "cell_type": "markdown",
   "id": "e9f3b72b",
   "metadata": {},
   "source": []
  },
  {
   "cell_type": "markdown",
   "id": "03657414",
   "metadata": {},
   "source": [
    "Q.3)Write a Python program to square the elements of a list using map() function.\n",
    "\n",
    "Sample List: [4, 5, 2, 9]\n",
    "\n",
    "Square the elements of the list:\n",
    "[16, 25, 4, 81]\n"
   ]
  },
  {
   "cell_type": "code",
   "execution_count": 7,
   "id": "0f86a33e",
   "metadata": {},
   "outputs": [
    {
     "data": {
      "text/plain": [
       "[16, 25, 4, 81]"
      ]
     },
     "execution_count": 7,
     "metadata": {},
     "output_type": "execute_result"
    }
   ],
   "source": [
    "l1=[4, 5, 2, 9]\n",
    "def square_of_elements(x):\n",
    "    return x**2\n",
    "list(map( square_of_elements,l1) )"
   ]
  },
  {
   "cell_type": "code",
   "execution_count": null,
   "id": "67fe5b7e",
   "metadata": {},
   "outputs": [],
   "source": []
  },
  {
   "cell_type": "code",
   "execution_count": 8,
   "id": "5f250600",
   "metadata": {},
   "outputs": [
    {
     "data": {
      "text/plain": [
       "[16, 25, 4, 81]"
      ]
     },
     "execution_count": 8,
     "metadata": {},
     "output_type": "execute_result"
    }
   ],
   "source": [
    "l1=[4, 5, 2, 9]\n",
    "list(map(lambda x:x**2,l1) )"
   ]
  },
  {
   "cell_type": "code",
   "execution_count": null,
   "id": "424278df",
   "metadata": {},
   "outputs": [],
   "source": []
  },
  {
   "cell_type": "code",
   "execution_count": null,
   "id": "bc84025b",
   "metadata": {},
   "outputs": [],
   "source": []
  },
  {
   "cell_type": "code",
   "execution_count": null,
   "id": "e81e165d",
   "metadata": {},
   "outputs": [],
   "source": []
  }
 ],
 "metadata": {
  "kernelspec": {
   "display_name": "Python 3 (ipykernel)",
   "language": "python",
   "name": "python3"
  },
  "language_info": {
   "codemirror_mode": {
    "name": "ipython",
    "version": 3
   },
   "file_extension": ".py",
   "mimetype": "text/x-python",
   "name": "python",
   "nbconvert_exporter": "python",
   "pygments_lexer": "ipython3",
   "version": "3.10.1"
  }
 },
 "nbformat": 4,
 "nbformat_minor": 5
}
